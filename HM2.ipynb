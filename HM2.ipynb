{
 "cells": [
  {
   "cell_type": "markdown",
   "metadata": {},
   "source": [
    "# HM2: Numerical Optimization for Logistic Regression.\n",
    "\n",
    "### Name: Prakhar Prasad\n"
   ]
  },
  {
   "cell_type": "markdown",
   "metadata": {},
   "source": [
    "## 0. You will do the following:\n",
    "\n",
    "1. Read the lecture note: [click here](https://github.com/wangshusen/DeepLearning/blob/master/LectureNotes/Logistic/paper/logistic.pdf)\n",
    "\n",
    "2. Read, complete, and run my code.\n",
    "\n",
    "3. **Implement mini-batch SGD** and evaluate the performance.\n",
    "\n",
    "4. Convert the .IPYNB file to .HTML file.\n",
    "\n",
    "    * The HTML file must contain **the code** and **the output after execution**.\n",
    "    \n",
    "    * Missing **the output after execution** will not be graded.\n",
    "    \n",
    "5. Upload this .HTML file to your Google Drive, Dropbox, or your Github repo.  (If you submit the file to Google Drive or Dropbox, you must make the file \"open-access\". The delay caused by \"deny of access\" may result in late penalty.)\n",
    "\n",
    "6. Submit the link to this .HTML file to Canvas.\n",
    "\n",
    "    * Example: https://github.com/wangshusen/CS583-2020S/blob/master/homework/HM2/HM2.html\n",
    "\n",
    "\n",
    "## Grading criteria:\n",
    "\n",
    "1. When computing the ```gradient``` and ```objective function value``` using a batch of samples, use **matrix-vector multiplication** rather than a FOR LOOP of **vector-vector multiplications**.\n",
    "\n",
    "2. Plot ```objective function value``` against ```epochs```. In the plot, compare GD, SGD, and MB-SGD (with $b=8$ and $b=64$). The plot must look reasonable."
   ]
  },
  {
   "cell_type": "code",
   "execution_count": null,
   "metadata": {},
   "outputs": [],
   "source": []
  },
  {
   "cell_type": "markdown",
   "metadata": {},
   "source": [
    "# 1. Data processing\n",
    "\n",
    "- Download the Diabete dataset from https://www.csie.ntu.edu.tw/~cjlin/libsvmtools/datasets/binary/diabetes\n",
    "- Load the data using sklearn.\n",
    "- Preprocess the data."
   ]
  },
  {
   "cell_type": "markdown",
   "metadata": {},
   "source": [
    "## 1.1. Load the data"
   ]
  },
  {
   "cell_type": "code",
   "execution_count": 1,
   "metadata": {},
   "outputs": [
    {
     "name": "stdout",
     "output_type": "stream",
     "text": [
      "Shape of x: (768, 8)\n",
      "Shape of y: (768,)\n"
     ]
    }
   ],
   "source": [
    "from sklearn import datasets\n",
    "import numpy\n",
    "\n",
    "x_sparse, y = datasets.load_svmlight_file('diabetes')\n",
    "x = x_sparse.todense()\n",
    "\n",
    "print('Shape of x: ' + str(x.shape))\n",
    "print('Shape of y: ' + str(y.shape))"
   ]
  },
  {
   "cell_type": "markdown",
   "metadata": {},
   "source": [
    "## 1.2. Partition to training and test sets"
   ]
  },
  {
   "cell_type": "code",
   "execution_count": 2,
   "metadata": {},
   "outputs": [
    {
     "name": "stdout",
     "output_type": "stream",
     "text": [
      "Shape of x_train: (640, 8)\n",
      "Shape of x_test: (128, 8)\n",
      "Shape of y_train: (640, 1)\n",
      "Shape of y_test: (128, 1)\n"
     ]
    }
   ],
   "source": [
    "# partition the data to training and test sets\n",
    "n = x.shape[0]\n",
    "n_train = 640\n",
    "n_test = n - n_train\n",
    "\n",
    "rand_indices = numpy.random.permutation(n)\n",
    "train_indices = rand_indices[0:n_train]\n",
    "test_indices = rand_indices[n_train:n]\n",
    "\n",
    "x_train = x[train_indices, :]\n",
    "x_test = x[test_indices, :]\n",
    "y_train = y[train_indices].reshape(n_train, 1)\n",
    "y_test = y[test_indices].reshape(n_test, 1)\n",
    "\n",
    "print('Shape of x_train: ' + str(x_train.shape))\n",
    "print('Shape of x_test: ' + str(x_test.shape))\n",
    "print('Shape of y_train: ' + str(y_train.shape))\n",
    "print('Shape of y_test: ' + str(y_test.shape))"
   ]
  },
  {
   "cell_type": "markdown",
   "metadata": {},
   "source": [
    "## 1.3. Feature scaling"
   ]
  },
  {
   "cell_type": "markdown",
   "metadata": {},
   "source": [
    "Use the standardization to trainsform both training and test features"
   ]
  },
  {
   "cell_type": "code",
   "execution_count": 3,
   "metadata": {},
   "outputs": [
    {
     "name": "stdout",
     "output_type": "stream",
     "text": [
      "test mean = \n",
      "[[ 0.0023308   0.05752311 -0.01939963 -0.09744148 -0.1946805  -0.05433173\n",
      "   0.01635774 -0.1249923 ]]\n",
      "test std = \n",
      "[[1.02747364 0.95365161 0.92751758 0.99708437 0.72101101 0.89201218\n",
      "  0.99887197 0.82578397]]\n"
     ]
    }
   ],
   "source": [
    "# Standardization\n",
    "import numpy\n",
    "\n",
    "# calculate mu and sig using the training set\n",
    "d = x_train.shape[1]\n",
    "mu = numpy.mean(x_train, axis=0).reshape(1, d)\n",
    "sig = numpy.std(x_train, axis=0).reshape(1, d)\n",
    "\n",
    "# transform the training features\n",
    "x_train = (x_train - mu) / (sig + 1E-6)\n",
    "\n",
    "# transform the test features\n",
    "x_test = (x_test - mu) / (sig + 1E-6)\n",
    "\n",
    "print('test mean = ')\n",
    "print(numpy.mean(x_test, axis=0))\n",
    "\n",
    "print('test std = ')\n",
    "print(numpy.std(x_test, axis=0))"
   ]
  },
  {
   "cell_type": "markdown",
   "metadata": {},
   "source": [
    "## 1.4. Add a dimension of all ones"
   ]
  },
  {
   "cell_type": "code",
   "execution_count": 4,
   "metadata": {},
   "outputs": [
    {
     "name": "stdout",
     "output_type": "stream",
     "text": [
      "Shape of x_train: (640, 9)\n",
      "Shape of x_test: (128, 9)\n"
     ]
    }
   ],
   "source": [
    "n_train, d = x_train.shape\n",
    "x_train = numpy.concatenate((x_train, numpy.ones((n_train, 1))), axis=1)\n",
    "\n",
    "n_test, d = x_test.shape\n",
    "x_test = numpy.concatenate((x_test, numpy.ones((n_test, 1))), axis=1)\n",
    "\n",
    "print('Shape of x_train: ' + str(x_train.shape))\n",
    "print('Shape of x_test: ' + str(x_test.shape))"
   ]
  },
  {
   "cell_type": "markdown",
   "metadata": {},
   "source": [
    "# 2. Logistic regression model\n",
    "\n",
    "The objective function is $Q (w; X, y) = \\frac{1}{n} \\sum_{i=1}^n \\log \\Big( 1 + \\exp \\big( - y_i x_i^T w \\big) \\Big) + \\frac{\\lambda}{2} \\| w \\|_2^2 $."
   ]
  },
  {
   "cell_type": "code",
   "execution_count": 5,
   "metadata": {},
   "outputs": [],
   "source": [
    "# Calculate the objective function value\n",
    "# Inputs:\n",
    "#     w: d-by-1 matrix\n",
    "#     x: n-by-d matrix\n",
    "#     y: n-by-1 matrix\n",
    "#     lam: scalar, the regularization parameter\n",
    "# Return:\n",
    "#     objective function value (scalar)\n",
    "def objective(w, x, y, lam):\n",
    "    n, d = x.shape\n",
    "    yx = numpy.multiply(y, x) # n-by-d matrix\n",
    "    yxw = numpy.dot(yx, w) # n-by-1 matrix\n",
    "    vec1 = numpy.exp(-yxw) # n-by-1 matrix\n",
    "    vec2 = numpy.log(1 + vec1) # n-by-1 matrix\n",
    "    loss = numpy.mean(vec2) # scalar\n",
    "    reg = lam / 2 * numpy.sum(w * w) # scalar\n",
    "    return loss + reg\n",
    "    "
   ]
  },
  {
   "cell_type": "code",
   "execution_count": 6,
   "metadata": {},
   "outputs": [
    {
     "name": "stdout",
     "output_type": "stream",
     "text": [
      "Initial objective function value = 0.6931471805599453\n"
     ]
    }
   ],
   "source": [
    "# initialize w\n",
    "d = x_train.shape[1]\n",
    "w = numpy.zeros((d, 1))\n",
    "\n",
    "# evaluate the objective function value at w\n",
    "lam = 1E-6\n",
    "objval0 = objective(w, x_train, y_train, lam)\n",
    "print('Initial objective function value = ' + str(objval0))"
   ]
  },
  {
   "cell_type": "markdown",
   "metadata": {},
   "source": [
    "# 3. Numerical optimization"
   ]
  },
  {
   "cell_type": "markdown",
   "metadata": {},
   "source": [
    "## 3.1. Gradient descent\n"
   ]
  },
  {
   "cell_type": "markdown",
   "metadata": {},
   "source": [
    "The gradient at $w$ is $g = - \\frac{1}{n} \\sum_{i=1}^n \\frac{y_i x_i }{1 + \\exp ( y_i x_i^T w)} + \\lambda w$"
   ]
  },
  {
   "cell_type": "code",
   "execution_count": 7,
   "metadata": {},
   "outputs": [],
   "source": [
    "# Calculate the gradient\n",
    "# Inputs:\n",
    "#     w: d-by-1 matrix\n",
    "#     x: n-by-d matrix\n",
    "#     y: n-by-1 matrix\n",
    "#     lam: scalar, the regularization parameter\n",
    "# Return:\n",
    "#     g: g: d-by-1 matrix, full gradient\n",
    "def gradient(w, x, y, lam):\n",
    "    n, d = x.shape\n",
    "    yx = numpy.multiply(y, x) # n-by-d matrix\n",
    "    yxw = numpy.dot(yx, w) # n-by-1 matrix\n",
    "    vec1 = numpy.exp(yxw) # n-by-1 matrix\n",
    "    vec2 = numpy.divide(yx, 1+vec1) # n-by-d matrix\n",
    "    vec3 = -numpy.mean(vec2, axis=0).reshape(d, 1) # d-by-1 matrix\n",
    "    g = vec3 + lam * w\n",
    "    return g"
   ]
  },
  {
   "cell_type": "code",
   "execution_count": 8,
   "metadata": {},
   "outputs": [],
   "source": [
    "# Gradient descent for solving logistic regression\n",
    "# Inputs:\n",
    "#     x: n-by-d matrix\n",
    "#     y: n-by-1 matrix\n",
    "#     lam: scalar, the regularization parameter\n",
    "#     stepsize: scalar\n",
    "#     max_iter: integer, the maximal iterations\n",
    "#     w: d-by-1 matrix, initialization of w\n",
    "# Return:\n",
    "#     w: d-by-1 matrix, the solution\n",
    "#     objvals: a record of each iteration's objective value\n",
    "def grad_descent(x, y, lam, stepsize, max_iter=100, w=None):\n",
    "    n, d = x.shape\n",
    "    objvals = numpy.zeros(max_iter) # store the objective values\n",
    "    if w is None:\n",
    "        w = numpy.zeros((d, 1)) # zero initialization\n",
    "    \n",
    "    for t in range(max_iter):\n",
    "        objval = objective(w, x, y, lam)\n",
    "        objvals[t] = objval\n",
    "        print('Objective value at t=' + str(t) + ' is ' + str(objval))\n",
    "        g = gradient(w, x, y, lam)\n",
    "        w -= stepsize * g\n",
    "    \n",
    "    return w, objvals"
   ]
  },
  {
   "cell_type": "markdown",
   "metadata": {},
   "source": [
    "Run gradient descent."
   ]
  },
  {
   "cell_type": "code",
   "execution_count": 9,
   "metadata": {},
   "outputs": [
    {
     "name": "stdout",
     "output_type": "stream",
     "text": [
      "Objective value at t=0 is 0.6931471805599453\n",
      "Objective value at t=1 is 0.5901323265454766\n",
      "Objective value at t=2 is 0.5478361805470864\n",
      "Objective value at t=3 is 0.5247921430754311\n",
      "Objective value at t=4 is 0.510263103833366\n",
      "Objective value at t=5 is 0.5003464734607361\n",
      "Objective value at t=6 is 0.49324099999976906\n",
      "Objective value at t=7 is 0.48797978779329215\n",
      "Objective value at t=8 is 0.48398969637056943\n",
      "Objective value at t=9 is 0.4809071809418627\n",
      "Objective value at t=10 is 0.47849023532795393\n",
      "Objective value at t=11 is 0.47657184301534067\n",
      "Objective value at t=12 is 0.4750334465182552\n",
      "Objective value at t=13 is 0.473788940174837\n",
      "Objective value at t=14 is 0.47277457945617724\n",
      "Objective value at t=15 is 0.47194239577305\n",
      "Objective value at t=16 is 0.4712557760428764\n",
      "Objective value at t=17 is 0.4706864243739749\n",
      "Objective value at t=18 is 0.47021223080256763\n",
      "Objective value at t=19 is 0.4698157493559362\n",
      "Objective value at t=20 is 0.4694830938079815\n",
      "Objective value at t=21 is 0.46920312493554545\n",
      "Objective value at t=22 is 0.4689668445060936\n",
      "Objective value at t=23 is 0.4687669380346898\n",
      "Objective value at t=24 is 0.46859742603868965\n",
      "Objective value at t=25 is 0.4684533953978931\n",
      "Objective value at t=26 is 0.4683307905319256\n",
      "Objective value at t=27 is 0.4682262497157847\n",
      "Objective value at t=28 is 0.468136975789184\n",
      "Objective value at t=29 is 0.4680606333099922\n",
      "Objective value at t=30 is 0.4679952662102608\n",
      "Objective value at t=31 is 0.4679392314722007\n",
      "Objective value at t=32 is 0.46789114541218296\n",
      "Objective value at t=33 is 0.4678498399542796\n",
      "Objective value at t=34 is 0.467814326868194\n",
      "Objective value at t=35 is 0.46778376839392527\n",
      "Objective value at t=36 is 0.46775745301574717\n",
      "Objective value at t=37 is 0.4677347754087455\n",
      "Objective value at t=38 is 0.46771521978228897\n",
      "Objective value at t=39 is 0.4676983460010646\n",
      "Objective value at t=40 is 0.46768377798647787\n",
      "Objective value at t=41 is 0.46767119399731855\n",
      "Objective value at t=42 is 0.46766031846460976\n",
      "Objective value at t=43 is 0.46765091511602924\n",
      "Objective value at t=44 is 0.46764278117362795\n",
      "Objective value at t=45 is 0.46763574244740114\n",
      "Objective value at t=46 is 0.46762964917860367\n",
      "Objective value at t=47 is 0.4676243725120906\n",
      "Objective value at t=48 is 0.4676198014976358\n",
      "Objective value at t=49 is 0.46761584053705446\n",
      "Objective value at t=50 is 0.4676124072077977\n",
      "Objective value at t=51 is 0.4676094304050721\n",
      "Objective value at t=52 is 0.4676068487539323\n",
      "Objective value at t=53 is 0.4676046092505726\n",
      "Objective value at t=54 is 0.4676026660985035\n",
      "Objective value at t=55 is 0.4676009797106739\n",
      "Objective value at t=56 is 0.46759951585308784\n",
      "Objective value at t=57 is 0.46759824490922025\n",
      "Objective value at t=58 is 0.4675971412476816\n",
      "Objective value at t=59 is 0.46759618267823333\n",
      "Objective value at t=60 is 0.46759534998347835\n",
      "Objective value at t=61 is 0.46759462651543443\n",
      "Objective value at t=62 is 0.46759399784778827\n",
      "Objective value at t=63 is 0.4675934514759717\n",
      "Objective value at t=64 is 0.46759297655834364\n",
      "Objective value at t=65 is 0.46759256369273167\n",
      "Objective value at t=66 is 0.4675922047234101\n",
      "Objective value at t=67 is 0.4675918925742958\n",
      "Objective value at t=68 is 0.4675916211047379\n",
      "Objective value at t=69 is 0.4675913849847948\n",
      "Objective value at t=70 is 0.46759117958732366\n",
      "Objective value at t=71 is 0.46759100089458255\n",
      "Objective value at t=72 is 0.46759084541737\n",
      "Objective value at t=73 is 0.4675907101249931\n",
      "Objective value at t=74 is 0.46759059238460127\n",
      "Objective value at t=75 is 0.46759048990861296\n",
      "Objective value at t=76 is 0.4675904007091497\n",
      "Objective value at t=77 is 0.4675903230585286\n",
      "Objective value at t=78 is 0.46759025545500316\n",
      "Objective value at t=79 is 0.46759019659304696\n",
      "Objective value at t=80 is 0.46759014533757287\n",
      "Objective value at t=81 is 0.46759010070156243\n",
      "Objective value at t=82 is 0.4675900618266494\n",
      "Objective value at t=83 is 0.4675900279662659\n",
      "Objective value at t=84 is 0.46758999847100896\n",
      "Objective value at t=85 is 0.4675899727759339\n",
      "Objective value at t=86 is 0.46758995038951856\n",
      "Objective value at t=87 is 0.4675899308840771\n",
      "Objective value at t=88 is 0.46758991388743176\n",
      "Objective value at t=89 is 0.46758989907567733\n",
      "Objective value at t=90 is 0.46758988616689295\n",
      "Objective value at t=91 is 0.4675898749156768\n",
      "Objective value at t=92 is 0.4675898651083959\n",
      "Objective value at t=93 is 0.46758985655905677\n",
      "Objective value at t=94 is 0.4675898491057149\n",
      "Objective value at t=95 is 0.46758984260735265\n",
      "Objective value at t=96 is 0.46758983694116435\n",
      "Objective value at t=97 is 0.4675898320001956\n",
      "Objective value at t=98 is 0.46758982769128865\n",
      "Objective value at t=99 is 0.4675898239332966\n"
     ]
    }
   ],
   "source": [
    "lam = 1E-6\n",
    "stepsize = 1.0\n",
    "w, objvals_gd = grad_descent(x_train, y_train, lam, stepsize)"
   ]
  },
  {
   "cell_type": "markdown",
   "metadata": {},
   "source": [
    "## 3.2. Stochastic gradient descent (SGD)\n",
    "\n",
    "Define $Q_i (w) = \\log \\Big( 1 + \\exp \\big( - y_i x_i^T w \\big) \\Big) + \\frac{\\lambda}{2} \\| w \\|_2^2 $.\n",
    "\n",
    "The stochastic gradient at $w$ is $g_i = \\frac{\\partial Q_i }{ \\partial w} = -\\frac{y_i x_i }{1 + \\exp ( y_i x_i^T w)} + \\lambda w$."
   ]
  },
  {
   "cell_type": "code",
   "execution_count": 10,
   "metadata": {},
   "outputs": [],
   "source": [
    "# Calculate the objective Q_i and the gradient of Q_i\n",
    "# Inputs:\n",
    "#     w: d-by-1 matrix\n",
    "#     xi: 1-by-d matrix\n",
    "#     yi: scalar\n",
    "#     lam: scalar, the regularization parameter\n",
    "# Return:\n",
    "#     obj: scalar, the objective Q_i\n",
    "#     g: d-by-1 matrix, gradient of Q_i\n",
    "def stochastic_objective_gradient(w, xi, yi, lam):\n",
    "    d = xi.shape[0]\n",
    "    yx = yi * xi # 1-by-d matrix\n",
    "    yxw = float(numpy.dot(yx, w)) # scalar\n",
    "    \n",
    "    # calculate objective function Q_i\n",
    "    loss = numpy.log(1 + numpy.exp(-yxw)) # scalar\n",
    "    reg = lam / 2 * numpy.sum(w * w) # scalar\n",
    "    obj = loss + reg\n",
    "    \n",
    "    # calculate stochastic gradient\n",
    "    g_loss = -yx.T / (1 + numpy.exp(yxw)) # d-by-1 matrix\n",
    "    g = g_loss + lam * w # d-by-1 matrix\n",
    "    \n",
    "    return obj, g"
   ]
  },
  {
   "cell_type": "code",
   "execution_count": 11,
   "metadata": {},
   "outputs": [],
   "source": [
    "# SGD for solving logistic regression\n",
    "# Inputs:\n",
    "#     x: n-by-d matrix\n",
    "#     y: n-by-1 matrix\n",
    "#     lam: scalar, the regularization parameter\n",
    "#     stepsize: scalar\n",
    "#     max_epoch: integer, the maximal epochs\n",
    "#     w: d-by-1 matrix, initialization of w\n",
    "# Return:\n",
    "#     w: the solution\n",
    "#     objvals: record of each iteration's objective value\n",
    "def sgd(x, y, lam, stepsize, max_epoch=100, w=None):\n",
    "    n, d = x.shape\n",
    "    objvals = numpy.zeros(max_epoch) # store the objective values\n",
    "    if w is None:\n",
    "        w = numpy.zeros((d, 1)) # zero initialization\n",
    "    \n",
    "    for t in range(max_epoch):\n",
    "        # randomly shuffle the samples\n",
    "        rand_indices = numpy.random.permutation(n)\n",
    "        x_rand = x[rand_indices, :]\n",
    "        y_rand = y[rand_indices, :]\n",
    "        \n",
    "        objval = 0 # accumulate the objective values\n",
    "        for i in range(n):\n",
    "            xi = x_rand[i, :] # 1-by-d matrix\n",
    "            yi = float(y_rand[i, :]) # scalar\n",
    "            obj, g = stochastic_objective_gradient(w, xi, yi, lam)\n",
    "            objval += obj\n",
    "            w -= stepsize * g\n",
    "        \n",
    "        stepsize *= 0.9 # decrease step size\n",
    "        objval /= n\n",
    "        objvals[t] = objval\n",
    "        print('Objective value at epoch t=' + str(t) + ' is ' + str(objval))\n",
    "    \n",
    "    return w, objvals"
   ]
  },
  {
   "cell_type": "markdown",
   "metadata": {},
   "source": [
    "Run SGD."
   ]
  },
  {
   "cell_type": "code",
   "execution_count": 12,
   "metadata": {},
   "outputs": [
    {
     "name": "stdout",
     "output_type": "stream",
     "text": [
      "Objective value at epoch t=0 is 0.5314514281121376\n",
      "Objective value at epoch t=1 is 0.5175337865569742\n",
      "Objective value at epoch t=2 is 0.5095218265978435\n",
      "Objective value at epoch t=3 is 0.502159163933076\n",
      "Objective value at epoch t=4 is 0.5041131729909194\n",
      "Objective value at epoch t=5 is 0.49415257106174365\n",
      "Objective value at epoch t=6 is 0.4970569474174096\n",
      "Objective value at epoch t=7 is 0.49192230307597173\n",
      "Objective value at epoch t=8 is 0.4886611924868502\n",
      "Objective value at epoch t=9 is 0.4878492869876667\n",
      "Objective value at epoch t=10 is 0.48456684958482654\n",
      "Objective value at epoch t=11 is 0.48143935945615446\n",
      "Objective value at epoch t=12 is 0.48387295017291787\n",
      "Objective value at epoch t=13 is 0.481153736406957\n",
      "Objective value at epoch t=14 is 0.4814995442232812\n",
      "Objective value at epoch t=15 is 0.47941128542653255\n",
      "Objective value at epoch t=16 is 0.4784751937479975\n",
      "Objective value at epoch t=17 is 0.4781235608174527\n",
      "Objective value at epoch t=18 is 0.4765875273460692\n",
      "Objective value at epoch t=19 is 0.47554557496851607\n",
      "Objective value at epoch t=20 is 0.4759479054025341\n",
      "Objective value at epoch t=21 is 0.47391243157732454\n",
      "Objective value at epoch t=22 is 0.47482854825990317\n",
      "Objective value at epoch t=23 is 0.47349576833881873\n",
      "Objective value at epoch t=24 is 0.4730472671718243\n",
      "Objective value at epoch t=25 is 0.4720976911417491\n",
      "Objective value at epoch t=26 is 0.4718106133219915\n",
      "Objective value at epoch t=27 is 0.47161036264542044\n",
      "Objective value at epoch t=28 is 0.4707144651084258\n",
      "Objective value at epoch t=29 is 0.4707774679219945\n",
      "Objective value at epoch t=30 is 0.4704101522176528\n",
      "Objective value at epoch t=31 is 0.47031387906039246\n",
      "Objective value at epoch t=32 is 0.4700331597179244\n",
      "Objective value at epoch t=33 is 0.4697956091254566\n",
      "Objective value at epoch t=34 is 0.4695478297396443\n",
      "Objective value at epoch t=35 is 0.4693967662689036\n",
      "Objective value at epoch t=36 is 0.4691889784444462\n",
      "Objective value at epoch t=37 is 0.46904908008280854\n",
      "Objective value at epoch t=38 is 0.46887531669328697\n",
      "Objective value at epoch t=39 is 0.46877457587444143\n",
      "Objective value at epoch t=40 is 0.46865923451126834\n",
      "Objective value at epoch t=41 is 0.46851125080455525\n",
      "Objective value at epoch t=42 is 0.4684485549325127\n",
      "Objective value at epoch t=43 is 0.4683697771520565\n",
      "Objective value at epoch t=44 is 0.4682941249779941\n",
      "Objective value at epoch t=45 is 0.46821974203759764\n",
      "Objective value at epoch t=46 is 0.46816231039226447\n",
      "Objective value at epoch t=47 is 0.46810578189333185\n",
      "Objective value at epoch t=48 is 0.4680380973220409\n",
      "Objective value at epoch t=49 is 0.46800890075491\n",
      "Objective value at epoch t=50 is 0.46796668754432086\n",
      "Objective value at epoch t=51 is 0.46792821335603313\n",
      "Objective value at epoch t=52 is 0.4678950082774735\n",
      "Objective value at epoch t=53 is 0.46786434152922035\n",
      "Objective value at epoch t=54 is 0.46783723761574114\n",
      "Objective value at epoch t=55 is 0.4678127290079785\n",
      "Objective value at epoch t=56 is 0.4677900628159909\n",
      "Objective value at epoch t=57 is 0.46776965901820333\n",
      "Objective value at epoch t=58 is 0.4677525288112799\n",
      "Objective value at epoch t=59 is 0.4677364167293872\n",
      "Objective value at epoch t=60 is 0.4677218564528237\n",
      "Objective value at epoch t=61 is 0.4677085747472378\n",
      "Objective value at epoch t=62 is 0.4676968424387053\n",
      "Objective value at epoch t=63 is 0.46768609260327665\n",
      "Objective value at epoch t=64 is 0.4676764680638529\n",
      "Objective value at epoch t=65 is 0.4676675746100735\n",
      "Objective value at epoch t=66 is 0.46766002652035066\n",
      "Objective value at epoch t=67 is 0.46765307326571837\n",
      "Objective value at epoch t=68 is 0.4676467665225557\n",
      "Objective value at epoch t=69 is 0.46764108833283424\n",
      "Objective value at epoch t=70 is 0.4676359616587213\n",
      "Objective value at epoch t=71 is 0.4676313433369163\n",
      "Objective value at epoch t=72 is 0.467627261419434\n",
      "Objective value at epoch t=73 is 0.4676235209683653\n",
      "Objective value at epoch t=74 is 0.467620153958371\n",
      "Objective value at epoch t=75 is 0.4676171343539613\n",
      "Objective value at epoch t=76 is 0.46761442920774227\n",
      "Objective value at epoch t=77 is 0.4676119816510719\n",
      "Objective value at epoch t=78 is 0.46760978097042105\n",
      "Objective value at epoch t=79 is 0.46760779289522025\n",
      "Objective value at epoch t=80 is 0.4676060136393163\n",
      "Objective value at epoch t=81 is 0.4676044068769275\n",
      "Objective value at epoch t=82 is 0.4676029529258141\n",
      "Objective value at epoch t=83 is 0.467601661528749\n",
      "Objective value at epoch t=84 is 0.4676004896507103\n",
      "Objective value at epoch t=85 is 0.4675994364974617\n",
      "Objective value at epoch t=86 is 0.4675984884894292\n",
      "Objective value at epoch t=87 is 0.46759763547703825\n",
      "Objective value at epoch t=88 is 0.46759686567940395\n",
      "Objective value at epoch t=89 is 0.4675961755518765\n",
      "Objective value at epoch t=90 is 0.4675955531254636\n",
      "Objective value at epoch t=91 is 0.4675949934751131\n",
      "Objective value at epoch t=92 is 0.4675944889150405\n",
      "Objective value at epoch t=93 is 0.4675940356897236\n",
      "Objective value at epoch t=94 is 0.4675936272952893\n",
      "Objective value at epoch t=95 is 0.46759325989626915\n",
      "Objective value at epoch t=96 is 0.46759292917143835\n",
      "Objective value at epoch t=97 is 0.4675926315428852\n",
      "Objective value at epoch t=98 is 0.46759236360111406\n",
      "Objective value at epoch t=99 is 0.46759212256987104\n"
     ]
    }
   ],
   "source": [
    "lam = 1E-6\n",
    "stepsize = 0.1\n",
    "w, objvals_sgd = sgd(x_train, y_train, lam, stepsize)"
   ]
  },
  {
   "cell_type": "markdown",
   "metadata": {},
   "source": [
    "# 4. Compare GD with SGD\n",
    "\n",
    "Plot objective function values against epochs."
   ]
  },
  {
   "cell_type": "code",
   "execution_count": 14,
   "metadata": {},
   "outputs": [
    {
     "data": {
      "image/png": "[encoded data removed]",
      "text/plain": [
       "<Figure size 432x288 with 1 Axes>"
      ]
     },
     "metadata": {
      "needs_background": "light"
     },
     "output_type": "display_data"
    }
   ],
   "source": [
    "import matplotlib.pyplot as plt\n",
    "%matplotlib inline\n",
    "\n",
    "fig = plt.figure(figsize=(6, 4))\n",
    "\n",
    "epochs_gd = range(len(objvals_gd))\n",
    "epochs_sgd = range(len(objvals_sgd))\n",
    "\n",
    "line0, = plt.plot(epochs_gd, objvals_gd, '--b', linewidth=4)\n",
    "line1, = plt.plot(epochs_sgd, objvals_sgd, '-r', linewidth=2)\n",
    "plt.xlabel('Epochs', fontsize=20)\n",
    "plt.ylabel('Objective Value', fontsize=20)\n",
    "plt.xticks(fontsize=16)\n",
    "plt.yticks(fontsize=16)\n",
    "plt.legend([line0, line1], ['GD', 'SGD'], fontsize=20)\n",
    "plt.tight_layout()\n",
    "plt.show()\n",
    "fig.savefig('compare_gd_sgd.pdf', format='pdf', dpi=1200)"
   ]
  },
  {
   "cell_type": "markdown",
   "metadata": {},
   "source": [
    "# 5. Prediction"
   ]
  },
  {
   "cell_type": "code",
   "execution_count": 18,
   "metadata": {},
   "outputs": [],
   "source": [
    "# Predict class label\n",
    "# Inputs:\n",
    "#     w: d-by-1 matrix\n",
    "#     X: m-by-d matrix\n",
    "# Return:\n",
    "#     f: m-by-1 matrix, the predictions\n",
    "def predict(w, X):\n",
    "    xw = numpy.dot(X, w)\n",
    "    f = numpy.sign(xw)\n",
    "    return f"
   ]
  },
  {
   "cell_type": "code",
   "execution_count": 19,
   "metadata": {},
   "outputs": [
    {
     "name": "stdout",
     "output_type": "stream",
     "text": [
      "Training classification error is 0.215625\n"
     ]
    }
   ],
   "source": [
    "# evaluate training error\n",
    "f_train = predict(w, x_train)\n",
    "diff = numpy.abs(f_train - y_train) / 2\n",
    "error_train = numpy.mean(diff)\n",
    "print('Training classification error is ' + str(error_train))"
   ]
  },
  {
   "cell_type": "code",
   "execution_count": 20,
   "metadata": {},
   "outputs": [
    {
     "name": "stdout",
     "output_type": "stream",
     "text": [
      "Test classification error is 0.21875\n"
     ]
    }
   ],
   "source": [
    "# evaluate test error\n",
    "f_test = predict(w, x_test)\n",
    "diff = numpy.abs(f_test - y_test) / 2\n",
    "error_test = numpy.mean(diff)\n",
    "print('Test classification error is ' + str(error_test))"
   ]
  },
  {
   "cell_type": "markdown",
   "metadata": {},
   "source": [
    "# 6. Mini-batch SGD (fill the code)\n",
    "\n"
   ]
  },
  {
   "cell_type": "markdown",
   "metadata": {},
   "source": [
    "## 6.1. Compute the objective $Q_I$ and its gradient using a batch of samples\n",
    "\n",
    "Define $Q_I (w) = \\frac{1}{b} \\sum_{i \\in I} \\log \\Big( 1 + \\exp \\big( - y_i x_i^T w \\big) \\Big) + \\frac{\\lambda}{2} \\| w \\|_2^2 $, where $I$ is a set containing $b$ indices randomly drawn from $\\{ 1, \\cdots , n \\}$ without replacement.\n",
    "\n",
    "The stochastic gradient at $w$ is $g_I = \\frac{\\partial Q_I }{ \\partial w} = \\frac{1}{b} \\sum_{i \\in I} \\frac{- y_i x_i }{1 + \\exp ( y_i x_i^T w)} + \\lambda w$."
   ]
  },
  {
   "cell_type": "code",
   "execution_count": 22,
   "metadata": {},
   "outputs": [],
   "source": [
    "# Calculate the objective Q_I and the gradient of Q_I\n",
    "# Inputs:\n",
    "#     w: d-by-1 matrix\n",
    "#     xi: b-by-d matrix\n",
    "#     yi: b-by-1 matrix\n",
    "#     lam: scalar, the regularization parameter\n",
    "#     b: integer, the batch size\n",
    "# Return:\n",
    "#     obj: scalar, the objective Q_i\n",
    "#     g: d-by-1 matrix, gradient of Q_i\n",
    "def mb_stochastic_objective_gradient(w, xi, yi, lam, b):\n",
    "    # Fill the function\n",
    "    # Follow the implementation of stochastic_objective_gradient\n",
    "    # Use matrix-vector multiplication; do not use FOR LOOP of vector-vector multiplications\n",
    "    n,d = xi.shape\n",
    "    yx = numpy.multiply(yi,xi) # n-by-d matrix\n",
    "    yxw = numpy.dot(yx, w) # n-by-1 matrix\n",
    "    \n",
    "    # calculate objective function Q_i\n",
    "    vec = numpy.log(1 + numpy.exp(-yxw)) # n-by-1 matrix\n",
    "    loss = numpy.mean(vec)  # scalar\n",
    "    reg = lam / 2 * numpy.sum(w * w) # scalar\n",
    "    obj = loss + reg\n",
    "    \n",
    "    # calculate stochastic gradient\n",
    "    vec1 = numpy.exp(yxw) # n-by-1 matrix\n",
    "    vec2 = numpy.divide(yx, 1+vec1) # n-by-d matrix\n",
    "    vec3 = -numpy.mean(vec2, axis=0).reshape(d, 1) # d-by-1 matrix\n",
    "    g = vec3 + lam * w\n",
    "    \n",
    "    return obj, g"
   ]
  },
  {
   "cell_type": "markdown",
   "metadata": {},
   "source": [
    "## 6.2. Implement mini-batch SGD\n",
    "\n",
    "Hints:\n",
    "1. In every epoch, randomly permute the $n$ samples (just like SGD).\n",
    "2. Each epoch has $\\frac{n}{b}$ iterations. In every iteration, use $b$ samples, and compute the gradient and objective using the ``mb_stochastic_objective_gradient`` function. In the next iteration, use the next $b$ samples, and so on.\n"
   ]
  },
  {
   "cell_type": "code",
   "execution_count": 25,
   "metadata": {},
   "outputs": [],
   "source": [
    "# Mini-Batch SGD for solving logistic regression\n",
    "# Inputs:\n",
    "#     x: n-by-d matrix\n",
    "#     y: n-by-1 matrix\n",
    "#     lam: scalar, the regularization parameter\n",
    "#     b: integer, the batch size\n",
    "#     stepsize: scalar\n",
    "#     max_epoch: integer, the maximal epochs\n",
    "#     w: d-by-1 matrix, initialization of w\n",
    "# Return:\n",
    "#     w: the solution\n",
    "#     objvals: record of each iteration's objective value\n",
    "def mb_sgd(x, y, lam, b, stepsize, max_epoch=100, w=None):\n",
    "    # Fill the function\n",
    "    # Follow the implementation of sgd\n",
    "    # Record one objective value per epoch (not per iteration!)\n",
    "    n, d = x.shape\n",
    "    objvals = numpy.zeros(max_epoch) # store the objective values\n",
    "    if w is None:\n",
    "        w = numpy.zeros((d, 1)) # zero initialization\n",
    "    for e in range(max_epoch):\n",
    "        rand_indices = numpy.random.permutation(n)\n",
    "        objval = 0\n",
    "        for i in range(int(n/b)):\n",
    "            x_mb = x[rand_indices[i*b:i*b+b], :] #Sequentially selects 8 training feature vector samples\n",
    "            y_mb = y[rand_indices[i*b:i*b+b], :] \n",
    "            obj, g = mb_stochastic_objective_gradient(w, x_mb, y_mb, lam, b)\n",
    "            objval+=obj\n",
    "            w -= stepsize*g\n",
    "        stepsize *= 0.9 # decrease step size\n",
    "        objval*=b/n\n",
    "        objvals[e]=objval\n",
    "        print('Objective value at epoch e=' + str(e) + ' is ' + str(objval))\n",
    "    \n",
    "    return w, objvals"
   ]
  },
  {
   "cell_type": "markdown",
   "metadata": {},
   "source": [
    "## 6.3. Run MB-SGD"
   ]
  },
  {
   "cell_type": "code",
   "execution_count": 26,
   "metadata": {},
   "outputs": [
    {
     "name": "stdout",
     "output_type": "stream",
     "text": [
      "Objective value at epoch e=0 is 0.5429441966842347\n",
      "Objective value at epoch e=1 is 0.4826202202489741\n",
      "Objective value at epoch e=2 is 0.4763996699706075\n",
      "Objective value at epoch e=3 is 0.473872965996307\n",
      "Objective value at epoch e=4 is 0.473485288846928\n",
      "Objective value at epoch e=5 is 0.47196780414771355\n",
      "Objective value at epoch e=6 is 0.472046856014004\n",
      "Objective value at epoch e=7 is 0.4710883668105928\n",
      "Objective value at epoch e=8 is 0.4711310440511204\n",
      "Objective value at epoch e=9 is 0.4700155685138827\n",
      "Objective value at epoch e=10 is 0.470957515687744\n",
      "Objective value at epoch e=11 is 0.4706966952331022\n",
      "Objective value at epoch e=12 is 0.4699744646473537\n",
      "Objective value at epoch e=13 is 0.46957292910922566\n",
      "Objective value at epoch e=14 is 0.4695390199621128\n",
      "Objective value at epoch e=15 is 0.46972260076766903\n",
      "Objective value at epoch e=16 is 0.46915599533706565\n",
      "Objective value at epoch e=17 is 0.4690611591750261\n",
      "Objective value at epoch e=18 is 0.46897318750044054\n",
      "Objective value at epoch e=19 is 0.46883301909124864\n",
      "Objective value at epoch e=20 is 0.4686357201063979\n",
      "Objective value at epoch e=21 is 0.4685831923069138\n",
      "Objective value at epoch e=22 is 0.46848092182712064\n",
      "Objective value at epoch e=23 is 0.4683631570097454\n",
      "Objective value at epoch e=24 is 0.46834594668815355\n",
      "Objective value at epoch e=25 is 0.4682381256126072\n",
      "Objective value at epoch e=26 is 0.4682198869534568\n",
      "Objective value at epoch e=27 is 0.4681535302694257\n",
      "Objective value at epoch e=28 is 0.46807978514915133\n",
      "Objective value at epoch e=29 is 0.4680323373182363\n",
      "Objective value at epoch e=30 is 0.4679764854573305\n",
      "Objective value at epoch e=31 is 0.467962159559993\n",
      "Objective value at epoch e=32 is 0.46790240195064947\n",
      "Objective value at epoch e=33 is 0.4678880486185948\n",
      "Objective value at epoch e=34 is 0.4678303921930006\n",
      "Objective value at epoch e=35 is 0.467824338793329\n",
      "Objective value at epoch e=36 is 0.4678008862379799\n",
      "Objective value at epoch e=37 is 0.46775474665152744\n",
      "Objective value at epoch e=38 is 0.46775155617589415\n",
      "Objective value at epoch e=39 is 0.4677292410713909\n",
      "Objective value at epoch e=40 is 0.4677247205584107\n",
      "Objective value at epoch e=41 is 0.46769989670377154\n",
      "Objective value at epoch e=42 is 0.4677030226517596\n",
      "Objective value at epoch e=43 is 0.4676826358162883\n",
      "Objective value at epoch e=44 is 0.4676856424634459\n",
      "Objective value at epoch e=45 is 0.46766914331313125\n",
      "Objective value at epoch e=46 is 0.46765822212812\n",
      "Objective value at epoch e=47 is 0.4676541250331454\n",
      "Objective value at epoch e=48 is 0.46765408361764566\n",
      "Objective value at epoch e=49 is 0.467644404137375\n",
      "Objective value at epoch e=50 is 0.4676375131788497\n",
      "Objective value at epoch e=51 is 0.4676301739908551\n",
      "Objective value at epoch e=52 is 0.46762776955746754\n",
      "Objective value at epoch e=53 is 0.4676217744162576\n",
      "Objective value at epoch e=54 is 0.4676200804117242\n",
      "Objective value at epoch e=55 is 0.46761898199469165\n",
      "Objective value at epoch e=56 is 0.4676150802077101\n",
      "Objective value at epoch e=57 is 0.46761404081239455\n",
      "Objective value at epoch e=58 is 0.4676121379066112\n",
      "Objective value at epoch e=59 is 0.4676087781533551\n",
      "Objective value at epoch e=60 is 0.4676071568170718\n",
      "Objective value at epoch e=61 is 0.4676056531955564\n",
      "Objective value at epoch e=62 is 0.4676038730774802\n",
      "Objective value at epoch e=63 is 0.46760348944413477\n",
      "Objective value at epoch e=64 is 0.46760230833152383\n",
      "Objective value at epoch e=65 is 0.4676001794557427\n",
      "Objective value at epoch e=66 is 0.467599548072067\n",
      "Objective value at epoch e=67 is 0.46759825585790865\n",
      "Objective value at epoch e=68 is 0.4675975134144607\n",
      "Objective value at epoch e=69 is 0.46759731488774525\n",
      "Objective value at epoch e=70 is 0.46759628193231867\n",
      "Objective value at epoch e=71 is 0.4675961080724822\n",
      "Objective value at epoch e=72 is 0.46759537359809916\n",
      "Objective value at epoch e=73 is 0.4675950875626539\n",
      "Objective value at epoch e=74 is 0.4675948308763131\n",
      "Objective value at epoch e=75 is 0.46759455347217305\n",
      "Objective value at epoch e=76 is 0.46759377986539113\n",
      "Objective value at epoch e=77 is 0.4675937191046212\n",
      "Objective value at epoch e=78 is 0.4675931869754857\n",
      "Objective value at epoch e=79 is 0.4675930164334145\n",
      "Objective value at epoch e=80 is 0.4675927227071508\n",
      "Objective value at epoch e=81 is 0.4675926604344942\n",
      "Objective value at epoch e=82 is 0.4675925614627452\n",
      "Objective value at epoch e=83 is 0.46759244304928504\n",
      "Objective value at epoch e=84 is 0.4675923311172982\n",
      "Objective value at epoch e=85 is 0.4675921853444682\n",
      "Objective value at epoch e=86 is 0.46759205225718203\n",
      "Objective value at epoch e=87 is 0.46759181748087963\n",
      "Objective value at epoch e=88 is 0.4675918058197671\n",
      "Objective value at epoch e=89 is 0.46759171279094486\n",
      "Objective value at epoch e=90 is 0.4675916571663072\n",
      "Objective value at epoch e=91 is 0.4675915920785582\n",
      "Objective value at epoch e=92 is 0.4675915020236958\n",
      "Objective value at epoch e=93 is 0.46759142771197404\n",
      "Objective value at epoch e=94 is 0.4675914075319445\n",
      "Objective value at epoch e=95 is 0.46759133821865595\n",
      "Objective value at epoch e=96 is 0.4675913301766304\n",
      "Objective value at epoch e=97 is 0.4675912601254222\n",
      "Objective value at epoch e=98 is 0.4675912201030327\n",
      "Objective value at epoch e=99 is 0.46759121656717473\n"
     ]
    }
   ],
   "source": [
    "# MB-SGD with batch size b=8\n",
    "lam = 1E-6 # do not change\n",
    "b = 8 # do not change\n",
    "stepsize = 0.1 # you must tune this parameter\n",
    "\n",
    "w, objvals_mbsgd8 = mb_sgd(x_train, y_train, lam, b, stepsize)"
   ]
  },
  {
   "cell_type": "code",
   "execution_count": 28,
   "metadata": {},
   "outputs": [
    {
     "name": "stdout",
     "output_type": "stream",
     "text": [
      "Objective value at epoch e=0 is 0.6485033530386456\n",
      "Objective value at epoch e=1 is 0.5839031606710563\n",
      "Objective value at epoch e=2 is 0.5516348244195416\n",
      "Objective value at epoch e=3 is 0.5329204858807598\n",
      "Objective value at epoch e=4 is 0.5209592800560208\n",
      "Objective value at epoch e=5 is 0.5125755334327624\n",
      "Objective value at epoch e=6 is 0.5063670439176317\n",
      "Objective value at epoch e=7 is 0.5019171761345315\n",
      "Objective value at epoch e=8 is 0.4983427616988162\n",
      "Objective value at epoch e=9 is 0.49557672042120293\n",
      "Objective value at epoch e=10 is 0.4932614421858702\n",
      "Objective value at epoch e=11 is 0.49146851160609445\n",
      "Objective value at epoch e=12 is 0.4898800916268353\n",
      "Objective value at epoch e=13 is 0.4886777839297183\n",
      "Objective value at epoch e=14 is 0.4876509305040901\n",
      "Objective value at epoch e=15 is 0.4866974681259437\n",
      "Objective value at epoch e=16 is 0.4859715959660276\n",
      "Objective value at epoch e=17 is 0.4852456789451474\n",
      "Objective value at epoch e=18 is 0.48465434347345904\n",
      "Objective value at epoch e=19 is 0.4841730380029657\n",
      "Objective value at epoch e=20 is 0.48376686287304127\n",
      "Objective value at epoch e=21 is 0.48334189671750916\n",
      "Objective value at epoch e=22 is 0.48300264886052235\n",
      "Objective value at epoch e=23 is 0.4827651205618687\n",
      "Objective value at epoch e=24 is 0.48245524289037117\n",
      "Objective value at epoch e=25 is 0.4822413458064394\n",
      "Objective value at epoch e=26 is 0.48203411359517007\n",
      "Objective value at epoch e=27 is 0.4818608266498277\n",
      "Objective value at epoch e=28 is 0.48167706294205126\n",
      "Objective value at epoch e=29 is 0.48155015590818134\n",
      "Objective value at epoch e=30 is 0.4814338766051054\n",
      "Objective value at epoch e=31 is 0.4812966684015428\n",
      "Objective value at epoch e=32 is 0.4812019558523753\n",
      "Objective value at epoch e=33 is 0.48111821469643695\n",
      "Objective value at epoch e=34 is 0.48104059254046727\n",
      "Objective value at epoch e=35 is 0.4809599965958722\n",
      "Objective value at epoch e=36 is 0.4809025261792659\n",
      "Objective value at epoch e=37 is 0.4808396629835705\n",
      "Objective value at epoch e=38 is 0.4807935433885768\n",
      "Objective value at epoch e=39 is 0.4807432750585663\n",
      "Objective value at epoch e=40 is 0.4807006127286574\n",
      "Objective value at epoch e=41 is 0.48066080928933075\n",
      "Objective value at epoch e=42 is 0.4806305030974419\n",
      "Objective value at epoch e=43 is 0.48060147177945106\n",
      "Objective value at epoch e=44 is 0.4805725100469216\n",
      "Objective value at epoch e=45 is 0.48055259296523145\n",
      "Objective value at epoch e=46 is 0.48052605867264103\n",
      "Objective value at epoch e=47 is 0.48050785437729965\n",
      "Objective value at epoch e=48 is 0.48049145300382634\n",
      "Objective value at epoch e=49 is 0.48047484356578996\n",
      "Objective value at epoch e=50 is 0.48046239256053697\n",
      "Objective value at epoch e=51 is 0.48044870204762563\n",
      "Objective value at epoch e=52 is 0.480435893972276\n",
      "Objective value at epoch e=53 is 0.4804262042270277\n",
      "Objective value at epoch e=54 is 0.48041809656212786\n",
      "Objective value at epoch e=55 is 0.48040958816542495\n",
      "Objective value at epoch e=56 is 0.4804011154090848\n",
      "Objective value at epoch e=57 is 0.48039489217189824\n",
      "Objective value at epoch e=58 is 0.4803887340623223\n",
      "Objective value at epoch e=59 is 0.48038316488342087\n",
      "Objective value at epoch e=60 is 0.48037814718070443\n",
      "Objective value at epoch e=61 is 0.4803743462257821\n",
      "Objective value at epoch e=62 is 0.48036987742775533\n",
      "Objective value at epoch e=63 is 0.4803665730614486\n",
      "Objective value at epoch e=64 is 0.48036326448178057\n",
      "Objective value at epoch e=65 is 0.4803605725684465\n",
      "Objective value at epoch e=66 is 0.48035777523038337\n",
      "Objective value at epoch e=67 is 0.48035559124310095\n",
      "Objective value at epoch e=68 is 0.4803533725573408\n",
      "Objective value at epoch e=69 is 0.4803515749360438\n",
      "Objective value at epoch e=70 is 0.4803499653666552\n",
      "Objective value at epoch e=71 is 0.4803483445800451\n",
      "Objective value at epoch e=72 is 0.4803467934763022\n",
      "Objective value at epoch e=73 is 0.48034575553994885\n",
      "Objective value at epoch e=74 is 0.4803445918003344\n",
      "Objective value at epoch e=75 is 0.4803434673753313\n",
      "Objective value at epoch e=76 is 0.4803427063893535\n",
      "Objective value at epoch e=77 is 0.48034176238695114\n",
      "Objective value at epoch e=78 is 0.48034115200564553\n",
      "Objective value at epoch e=79 is 0.4803404970189796\n",
      "Objective value at epoch e=80 is 0.4803398274967573\n",
      "Objective value at epoch e=81 is 0.4803393263515341\n",
      "Objective value at epoch e=82 is 0.4803387626931624\n",
      "Objective value at epoch e=83 is 0.4803383854498118\n",
      "Objective value at epoch e=84 is 0.48033801737417203\n",
      "Objective value at epoch e=85 is 0.4803376405421414\n",
      "Objective value at epoch e=86 is 0.48033733616299873\n",
      "Objective value at epoch e=87 is 0.48033703398116584\n",
      "Objective value at epoch e=88 is 0.48033676432077965\n",
      "Objective value at epoch e=89 is 0.4803365398837037\n",
      "Objective value at epoch e=90 is 0.4803363257776962\n",
      "Objective value at epoch e=91 is 0.4803361640553221\n",
      "Objective value at epoch e=92 is 0.48033599311160025\n",
      "Objective value at epoch e=93 is 0.48033585308365084\n",
      "Objective value at epoch e=94 is 0.48033569042506974\n",
      "Objective value at epoch e=95 is 0.4803355842964119\n",
      "Objective value at epoch e=96 is 0.4803354477425284\n",
      "Objective value at epoch e=97 is 0.48033535598715604\n",
      "Objective value at epoch e=98 is 0.48033527299623285\n",
      "Objective value at epoch e=99 is 0.48033519328761565\n"
     ]
    }
   ],
   "source": [
    "# MB-SGD with batch size b=64\n",
    "lam = 1E-6 # do not change\n",
    "b = 64 # do not change\n",
    "stepsize = 0.1 # you must tune this parameter\n",
    "\n",
    "w, objvals_mbsgd64 = mb_sgd(x_train, y_train, lam, b, stepsize)"
   ]
  },
  {
   "cell_type": "markdown",
   "metadata": {},
   "source": [
    "# 7. Plot and compare GD, SGD, and MB-SGD"
   ]
  },
  {
   "cell_type": "markdown",
   "metadata": {},
   "source": [
    "You are required to compare the following algorithms:\n",
    "\n",
    "- Gradient descent (GD)\n",
    "\n",
    "- SGD\n",
    "\n",
    "- MB-SGD with b=8\n",
    "\n",
    "- MB-SGD with b=64\n",
    "\n",
    "Follow the code in Section 4 to plot ```objective function value``` against ```epochs```. There should be four curves in the plot; each curve corresponds to one algorithm."
   ]
  },
  {
   "cell_type": "markdown",
   "metadata": {},
   "source": [
    "Hint: Logistic regression with $\\ell_2$-norm regularization is a strongly convex optimization problem. All the algorithms will converge to the same solution. **In the end, the ``objective function value`` of the 4 algorithms will be the same. If not the same, your implementation must be wrong. Do NOT submit wrong code and wrong result!**"
   ]
  },
  {
   "cell_type": "code",
   "execution_count": 30,
   "metadata": {},
   "outputs": [
    {
     "data": {
      "image/png": "[encoded data removed]",
      "text/plain": [
       "<Figure size 432x288 with 1 Axes>"
      ]
     },
     "metadata": {
      "needs_background": "light"
     },
     "output_type": "display_data"
    }
   ],
   "source": [
    "# plot the 4 curves:\n",
    "import matplotlib.pyplot as plt\n",
    "%matplotlib inline\n",
    "\n",
    "fig = plt.figure(figsize=(6, 4))\n",
    "\n",
    "epochs_gd = range(len(objvals_gd))\n",
    "epochs_sgd = range(len(objvals_sgd))\n",
    "epochs_mbsgd8 = range(len(objvals_mbsgd8))\n",
    "epochs_mbsgd64 = range(len(objvals_mbsgd64))\n",
    "\n",
    "line0, = plt.plot(epochs_gd, objvals_gd, '--b', linewidth=6)\n",
    "line1, = plt.plot(epochs_sgd, objvals_sgd, '-r', linewidth=6, alpha = 0.7)\n",
    "line2, = plt.plot(epochs_mbsgd8, objvals_mbsgd8, '-.c', linewidth=6, alpha = 1)\n",
    "line3, = plt.plot(epochs_mbsgd64, objvals_mbsgd64, '--k', linewidth=4, alpha = 0.7)\n",
    "plt.xlabel('Epochs', fontsize=20)\n",
    "plt.ylabel('Objective Value', fontsize=20)\n",
    "plt.xticks(fontsize=16)\n",
    "plt.yticks(fontsize=16)\n",
    "plt.legend([line0, line1, line2, line3], ['GD', 'SGD','MBSGD8', 'MBSGD64'], fontsize=20)\n",
    "plt.tight_layout()\n",
    "plt.show()\n",
    "fig.savefig('compare_gd_sgd.pdf', format='pdf', dpi=1200)"
   ]
  },
  {
   "cell_type": "markdown",
   "metadata": {},
   "source": []
  }
 ],
 "metadata": {
  "kernelspec": {
   "display_name": "Python 3",
   "language": "python",
   "name": "python3"
  },
  "language_info": {
   "codemirror_mode": {
    "name": "ipython",
    "version": 3
   },
   "file_extension": ".py",
   "mimetype": "text/x-python",
   "name": "python",
   "nbconvert_exporter": "python",
   "pygments_lexer": "ipython3",
   "version": "3.8.5"
  }
 },
 "nbformat": 4,
 "nbformat_minor": 2
}
